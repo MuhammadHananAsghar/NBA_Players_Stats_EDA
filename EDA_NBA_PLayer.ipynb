{
  "nbformat": 4,
  "nbformat_minor": 0,
  "metadata": {
    "colab": {
      "name": "EDA - NBA PLayer.ipynb",
      "provenance": [],
      "collapsed_sections": []
    },
    "kernelspec": {
      "name": "python3",
      "display_name": "Python 3"
    },
    "language_info": {
      "name": "python"
    }
  },
  "cells": [
    {
      "cell_type": "markdown",
      "source": [
        "#EDA - Exploratory Data Analysis"
      ],
      "metadata": {
        "id": "mH-Nh8ZOjNT7"
      }
    },
    {
      "cell_type": "code",
      "execution_count": 1,
      "metadata": {
        "id": "b1_GGqMkhfMo"
      },
      "outputs": [],
      "source": [
        "# libraries\n",
        "import pandas as pd\n",
        "import numpy as np\n",
        "import seaborn as sns\n",
        "import matplotlib.pyplot as plt\n",
        "import warnings\n",
        "\n",
        "plt.style.use(\"fivethirtyeight\")\n",
        "warnings.filterwarnings(\"ignore\")"
      ]
    },
    {
      "cell_type": "code",
      "source": [
        "data = pd.read_csv(\"NBA_stats.csv\")"
      ],
      "metadata": {
        "id": "RbiUq9_AjE69"
      },
      "execution_count": 2,
      "outputs": []
    },
    {
      "cell_type": "code",
      "source": [
        "data.head()"
      ],
      "metadata": {
        "colab": {
          "base_uri": "https://localhost:8080/",
          "height": 409
        },
        "id": "vv-X-x_8jJrn",
        "outputId": "f14a5dd6-3367-4844-8288-842ebafbf439"
      },
      "execution_count": 3,
      "outputs": [
        {
          "output_type": "execute_result",
          "data": {
            "text/html": [
              "\n",
              "  <div id=\"df-5debf07b-a1e3-4513-b487-008e42d51b40\">\n",
              "    <div class=\"colab-df-container\">\n",
              "      <div>\n",
              "<style scoped>\n",
              "    .dataframe tbody tr th:only-of-type {\n",
              "        vertical-align: middle;\n",
              "    }\n",
              "\n",
              "    .dataframe tbody tr th {\n",
              "        vertical-align: top;\n",
              "    }\n",
              "\n",
              "    .dataframe thead th {\n",
              "        text-align: right;\n",
              "    }\n",
              "</style>\n",
              "<table border=\"1\" class=\"dataframe\">\n",
              "  <thead>\n",
              "    <tr style=\"text-align: right;\">\n",
              "      <th></th>\n",
              "      <th>Player</th>\n",
              "      <th>Pos</th>\n",
              "      <th>Age</th>\n",
              "      <th>Team</th>\n",
              "      <th>Games</th>\n",
              "      <th>Minutes Played</th>\n",
              "      <th>Fields Goal</th>\n",
              "      <th>Fields Goal Attempted</th>\n",
              "      <th>3-points Field Goal</th>\n",
              "      <th>3-points Field Goal Attempted</th>\n",
              "      <th>2-points Field Goal</th>\n",
              "      <th>2-points Field Goal Attempted</th>\n",
              "      <th>Free Throws</th>\n",
              "      <th>Free Throws Attempted</th>\n",
              "      <th>Offensive Rebounds</th>\n",
              "      <th>Defensive Rebounds</th>\n",
              "      <th>Total Rebounds</th>\n",
              "      <th>Assists</th>\n",
              "      <th>Steals</th>\n",
              "      <th>Blocks</th>\n",
              "      <th>Turnovers</th>\n",
              "      <th>Personal Fouls</th>\n",
              "      <th>Points</th>\n",
              "      <th>Rank</th>\n",
              "      <th>Year</th>\n",
              "    </tr>\n",
              "  </thead>\n",
              "  <tbody>\n",
              "    <tr>\n",
              "      <th>0</th>\n",
              "      <td>Álex Abrines</td>\n",
              "      <td>SG</td>\n",
              "      <td>24</td>\n",
              "      <td>OKC</td>\n",
              "      <td>75</td>\n",
              "      <td>15.1</td>\n",
              "      <td>1.5</td>\n",
              "      <td>3.9</td>\n",
              "      <td>1.1</td>\n",
              "      <td>2.9</td>\n",
              "      <td>0.4</td>\n",
              "      <td>0.9</td>\n",
              "      <td>0.5</td>\n",
              "      <td>0.6</td>\n",
              "      <td>0.3</td>\n",
              "      <td>1.2</td>\n",
              "      <td>1.5</td>\n",
              "      <td>0.4</td>\n",
              "      <td>0.5</td>\n",
              "      <td>0.1</td>\n",
              "      <td>0.3</td>\n",
              "      <td>1.7</td>\n",
              "      <td>4.7</td>\n",
              "      <td>1</td>\n",
              "      <td>2018</td>\n",
              "    </tr>\n",
              "    <tr>\n",
              "      <th>1</th>\n",
              "      <td>Quincy Acy</td>\n",
              "      <td>PF</td>\n",
              "      <td>27</td>\n",
              "      <td>BRK</td>\n",
              "      <td>70</td>\n",
              "      <td>19.4</td>\n",
              "      <td>1.9</td>\n",
              "      <td>5.2</td>\n",
              "      <td>1.5</td>\n",
              "      <td>4.2</td>\n",
              "      <td>0.4</td>\n",
              "      <td>1.0</td>\n",
              "      <td>0.7</td>\n",
              "      <td>0.9</td>\n",
              "      <td>0.6</td>\n",
              "      <td>3.1</td>\n",
              "      <td>3.7</td>\n",
              "      <td>0.8</td>\n",
              "      <td>0.5</td>\n",
              "      <td>0.4</td>\n",
              "      <td>0.9</td>\n",
              "      <td>2.1</td>\n",
              "      <td>5.9</td>\n",
              "      <td>2</td>\n",
              "      <td>2018</td>\n",
              "    </tr>\n",
              "    <tr>\n",
              "      <th>2</th>\n",
              "      <td>Steven Adams</td>\n",
              "      <td>C</td>\n",
              "      <td>24</td>\n",
              "      <td>OKC</td>\n",
              "      <td>76</td>\n",
              "      <td>32.7</td>\n",
              "      <td>5.9</td>\n",
              "      <td>9.4</td>\n",
              "      <td>0.0</td>\n",
              "      <td>0.0</td>\n",
              "      <td>5.9</td>\n",
              "      <td>9.3</td>\n",
              "      <td>2.1</td>\n",
              "      <td>3.8</td>\n",
              "      <td>5.1</td>\n",
              "      <td>4.0</td>\n",
              "      <td>9.0</td>\n",
              "      <td>1.2</td>\n",
              "      <td>1.2</td>\n",
              "      <td>1.0</td>\n",
              "      <td>1.7</td>\n",
              "      <td>2.8</td>\n",
              "      <td>13.9</td>\n",
              "      <td>3</td>\n",
              "      <td>2018</td>\n",
              "    </tr>\n",
              "    <tr>\n",
              "      <th>3</th>\n",
              "      <td>Bam Adebayo</td>\n",
              "      <td>C</td>\n",
              "      <td>20</td>\n",
              "      <td>MIA</td>\n",
              "      <td>69</td>\n",
              "      <td>19.8</td>\n",
              "      <td>2.5</td>\n",
              "      <td>4.9</td>\n",
              "      <td>0.0</td>\n",
              "      <td>0.1</td>\n",
              "      <td>2.5</td>\n",
              "      <td>4.8</td>\n",
              "      <td>1.9</td>\n",
              "      <td>2.6</td>\n",
              "      <td>1.7</td>\n",
              "      <td>3.8</td>\n",
              "      <td>5.5</td>\n",
              "      <td>1.5</td>\n",
              "      <td>0.5</td>\n",
              "      <td>0.6</td>\n",
              "      <td>1.0</td>\n",
              "      <td>2.0</td>\n",
              "      <td>6.9</td>\n",
              "      <td>4</td>\n",
              "      <td>2018</td>\n",
              "    </tr>\n",
              "    <tr>\n",
              "      <th>4</th>\n",
              "      <td>Arron Afflalo</td>\n",
              "      <td>SG</td>\n",
              "      <td>32</td>\n",
              "      <td>ORL</td>\n",
              "      <td>53</td>\n",
              "      <td>12.9</td>\n",
              "      <td>1.2</td>\n",
              "      <td>3.1</td>\n",
              "      <td>0.5</td>\n",
              "      <td>1.3</td>\n",
              "      <td>0.7</td>\n",
              "      <td>1.7</td>\n",
              "      <td>0.4</td>\n",
              "      <td>0.5</td>\n",
              "      <td>0.1</td>\n",
              "      <td>1.2</td>\n",
              "      <td>1.2</td>\n",
              "      <td>0.6</td>\n",
              "      <td>0.1</td>\n",
              "      <td>0.2</td>\n",
              "      <td>0.4</td>\n",
              "      <td>1.1</td>\n",
              "      <td>3.4</td>\n",
              "      <td>5</td>\n",
              "      <td>2018</td>\n",
              "    </tr>\n",
              "  </tbody>\n",
              "</table>\n",
              "</div>\n",
              "      <button class=\"colab-df-convert\" onclick=\"convertToInteractive('df-5debf07b-a1e3-4513-b487-008e42d51b40')\"\n",
              "              title=\"Convert this dataframe to an interactive table.\"\n",
              "              style=\"display:none;\">\n",
              "        \n",
              "  <svg xmlns=\"http://www.w3.org/2000/svg\" height=\"24px\"viewBox=\"0 0 24 24\"\n",
              "       width=\"24px\">\n",
              "    <path d=\"M0 0h24v24H0V0z\" fill=\"none\"/>\n",
              "    <path d=\"M18.56 5.44l.94 2.06.94-2.06 2.06-.94-2.06-.94-.94-2.06-.94 2.06-2.06.94zm-11 1L8.5 8.5l.94-2.06 2.06-.94-2.06-.94L8.5 2.5l-.94 2.06-2.06.94zm10 10l.94 2.06.94-2.06 2.06-.94-2.06-.94-.94-2.06-.94 2.06-2.06.94z\"/><path d=\"M17.41 7.96l-1.37-1.37c-.4-.4-.92-.59-1.43-.59-.52 0-1.04.2-1.43.59L10.3 9.45l-7.72 7.72c-.78.78-.78 2.05 0 2.83L4 21.41c.39.39.9.59 1.41.59.51 0 1.02-.2 1.41-.59l7.78-7.78 2.81-2.81c.8-.78.8-2.07 0-2.86zM5.41 20L4 18.59l7.72-7.72 1.47 1.35L5.41 20z\"/>\n",
              "  </svg>\n",
              "      </button>\n",
              "      \n",
              "  <style>\n",
              "    .colab-df-container {\n",
              "      display:flex;\n",
              "      flex-wrap:wrap;\n",
              "      gap: 12px;\n",
              "    }\n",
              "\n",
              "    .colab-df-convert {\n",
              "      background-color: #E8F0FE;\n",
              "      border: none;\n",
              "      border-radius: 50%;\n",
              "      cursor: pointer;\n",
              "      display: none;\n",
              "      fill: #1967D2;\n",
              "      height: 32px;\n",
              "      padding: 0 0 0 0;\n",
              "      width: 32px;\n",
              "    }\n",
              "\n",
              "    .colab-df-convert:hover {\n",
              "      background-color: #E2EBFA;\n",
              "      box-shadow: 0px 1px 2px rgba(60, 64, 67, 0.3), 0px 1px 3px 1px rgba(60, 64, 67, 0.15);\n",
              "      fill: #174EA6;\n",
              "    }\n",
              "\n",
              "    [theme=dark] .colab-df-convert {\n",
              "      background-color: #3B4455;\n",
              "      fill: #D2E3FC;\n",
              "    }\n",
              "\n",
              "    [theme=dark] .colab-df-convert:hover {\n",
              "      background-color: #434B5C;\n",
              "      box-shadow: 0px 1px 3px 1px rgba(0, 0, 0, 0.15);\n",
              "      filter: drop-shadow(0px 1px 2px rgba(0, 0, 0, 0.3));\n",
              "      fill: #FFFFFF;\n",
              "    }\n",
              "  </style>\n",
              "\n",
              "      <script>\n",
              "        const buttonEl =\n",
              "          document.querySelector('#df-5debf07b-a1e3-4513-b487-008e42d51b40 button.colab-df-convert');\n",
              "        buttonEl.style.display =\n",
              "          google.colab.kernel.accessAllowed ? 'block' : 'none';\n",
              "\n",
              "        async function convertToInteractive(key) {\n",
              "          const element = document.querySelector('#df-5debf07b-a1e3-4513-b487-008e42d51b40');\n",
              "          const dataTable =\n",
              "            await google.colab.kernel.invokeFunction('convertToInteractive',\n",
              "                                                     [key], {});\n",
              "          if (!dataTable) return;\n",
              "\n",
              "          const docLinkHtml = 'Like what you see? Visit the ' +\n",
              "            '<a target=\"_blank\" href=https://colab.research.google.com/notebooks/data_table.ipynb>data table notebook</a>'\n",
              "            + ' to learn more about interactive tables.';\n",
              "          element.innerHTML = '';\n",
              "          dataTable['output_type'] = 'display_data';\n",
              "          await google.colab.output.renderOutput(dataTable, element);\n",
              "          const docLink = document.createElement('div');\n",
              "          docLink.innerHTML = docLinkHtml;\n",
              "          element.appendChild(docLink);\n",
              "        }\n",
              "      </script>\n",
              "    </div>\n",
              "  </div>\n",
              "  "
            ],
            "text/plain": [
              "          Player Pos  Age Team  ...  Personal Fouls  Points  Rank  Year\n",
              "0   Álex Abrines  SG   24  OKC  ...             1.7     4.7     1  2018\n",
              "1     Quincy Acy  PF   27  BRK  ...             2.1     5.9     2  2018\n",
              "2   Steven Adams   C   24  OKC  ...             2.8    13.9     3  2018\n",
              "3    Bam Adebayo   C   20  MIA  ...             2.0     6.9     4  2018\n",
              "4  Arron Afflalo  SG   32  ORL  ...             1.1     3.4     5  2018\n",
              "\n",
              "[5 rows x 25 columns]"
            ]
          },
          "metadata": {},
          "execution_count": 3
        }
      ]
    },
    {
      "cell_type": "code",
      "source": [
        "data.info()"
      ],
      "metadata": {
        "colab": {
          "base_uri": "https://localhost:8080/"
        },
        "id": "FxmrtaTojLS2",
        "outputId": "f9635dc6-adb3-4952-c2f8-df585fade809"
      },
      "execution_count": 4,
      "outputs": [
        {
          "output_type": "stream",
          "name": "stdout",
          "text": [
            "<class 'pandas.core.frame.DataFrame'>\n",
            "RangeIndex: 2728 entries, 0 to 2727\n",
            "Data columns (total 25 columns):\n",
            " #   Column                         Non-Null Count  Dtype  \n",
            "---  ------                         --------------  -----  \n",
            " 0   Player                         2728 non-null   object \n",
            " 1   Pos                            2728 non-null   object \n",
            " 2   Age                            2728 non-null   int64  \n",
            " 3   Team                           2728 non-null   object \n",
            " 4   Games                          2728 non-null   int64  \n",
            " 5   Minutes Played                 2728 non-null   float64\n",
            " 6   Fields Goal                    2728 non-null   float64\n",
            " 7   Fields Goal Attempted          2728 non-null   float64\n",
            " 8   3-points Field Goal            2728 non-null   float64\n",
            " 9   3-points Field Goal Attempted  2728 non-null   float64\n",
            " 10  2-points Field Goal            2728 non-null   float64\n",
            " 11  2-points Field Goal Attempted  2728 non-null   float64\n",
            " 12  Free Throws                    2728 non-null   float64\n",
            " 13  Free Throws Attempted          2728 non-null   float64\n",
            " 14  Offensive Rebounds             2728 non-null   float64\n",
            " 15  Defensive Rebounds             2728 non-null   float64\n",
            " 16  Total Rebounds                 2728 non-null   float64\n",
            " 17  Assists                        2728 non-null   float64\n",
            " 18  Steals                         2728 non-null   float64\n",
            " 19  Blocks                         2728 non-null   float64\n",
            " 20  Turnovers                      2728 non-null   float64\n",
            " 21  Personal Fouls                 2728 non-null   float64\n",
            " 22  Points                         2728 non-null   float64\n",
            " 23  Rank                           2728 non-null   int64  \n",
            " 24  Year                           2728 non-null   int64  \n",
            "dtypes: float64(18), int64(4), object(3)\n",
            "memory usage: 532.9+ KB\n"
          ]
        }
      ]
    },
    {
      "cell_type": "code",
      "source": [
        "data.tail()"
      ],
      "metadata": {
        "colab": {
          "base_uri": "https://localhost:8080/",
          "height": 409
        },
        "id": "1JMm4ELIjTRl",
        "outputId": "ba3ee856-a2b3-44a3-b7e2-2ea5df223815"
      },
      "execution_count": 5,
      "outputs": [
        {
          "output_type": "execute_result",
          "data": {
            "text/html": [
              "\n",
              "  <div id=\"df-67361fbd-8567-47be-95e0-47d0e55abea3\">\n",
              "    <div class=\"colab-df-container\">\n",
              "      <div>\n",
              "<style scoped>\n",
              "    .dataframe tbody tr th:only-of-type {\n",
              "        vertical-align: middle;\n",
              "    }\n",
              "\n",
              "    .dataframe tbody tr th {\n",
              "        vertical-align: top;\n",
              "    }\n",
              "\n",
              "    .dataframe thead th {\n",
              "        text-align: right;\n",
              "    }\n",
              "</style>\n",
              "<table border=\"1\" class=\"dataframe\">\n",
              "  <thead>\n",
              "    <tr style=\"text-align: right;\">\n",
              "      <th></th>\n",
              "      <th>Player</th>\n",
              "      <th>Pos</th>\n",
              "      <th>Age</th>\n",
              "      <th>Team</th>\n",
              "      <th>Games</th>\n",
              "      <th>Minutes Played</th>\n",
              "      <th>Fields Goal</th>\n",
              "      <th>Fields Goal Attempted</th>\n",
              "      <th>3-points Field Goal</th>\n",
              "      <th>3-points Field Goal Attempted</th>\n",
              "      <th>2-points Field Goal</th>\n",
              "      <th>2-points Field Goal Attempted</th>\n",
              "      <th>Free Throws</th>\n",
              "      <th>Free Throws Attempted</th>\n",
              "      <th>Offensive Rebounds</th>\n",
              "      <th>Defensive Rebounds</th>\n",
              "      <th>Total Rebounds</th>\n",
              "      <th>Assists</th>\n",
              "      <th>Steals</th>\n",
              "      <th>Blocks</th>\n",
              "      <th>Turnovers</th>\n",
              "      <th>Personal Fouls</th>\n",
              "      <th>Points</th>\n",
              "      <th>Rank</th>\n",
              "      <th>Year</th>\n",
              "    </tr>\n",
              "  </thead>\n",
              "  <tbody>\n",
              "    <tr>\n",
              "      <th>2723</th>\n",
              "      <td>Delon Wright</td>\n",
              "      <td>PG</td>\n",
              "      <td>28</td>\n",
              "      <td>SAC</td>\n",
              "      <td>27</td>\n",
              "      <td>25.8</td>\n",
              "      <td>3.9</td>\n",
              "      <td>8.3</td>\n",
              "      <td>1.2</td>\n",
              "      <td>3.1</td>\n",
              "      <td>2.6</td>\n",
              "      <td>5.3</td>\n",
              "      <td>1.1</td>\n",
              "      <td>1.3</td>\n",
              "      <td>1.0</td>\n",
              "      <td>2.9</td>\n",
              "      <td>3.9</td>\n",
              "      <td>3.6</td>\n",
              "      <td>1.6</td>\n",
              "      <td>0.4</td>\n",
              "      <td>1.3</td>\n",
              "      <td>1.1</td>\n",
              "      <td>10.0</td>\n",
              "      <td>536</td>\n",
              "      <td>2021</td>\n",
              "    </tr>\n",
              "    <tr>\n",
              "      <th>2724</th>\n",
              "      <td>Thaddeus Young</td>\n",
              "      <td>PF</td>\n",
              "      <td>32</td>\n",
              "      <td>CHI</td>\n",
              "      <td>68</td>\n",
              "      <td>24.3</td>\n",
              "      <td>5.4</td>\n",
              "      <td>9.7</td>\n",
              "      <td>0.2</td>\n",
              "      <td>0.7</td>\n",
              "      <td>5.3</td>\n",
              "      <td>9.1</td>\n",
              "      <td>1.0</td>\n",
              "      <td>1.7</td>\n",
              "      <td>2.5</td>\n",
              "      <td>3.8</td>\n",
              "      <td>6.2</td>\n",
              "      <td>4.3</td>\n",
              "      <td>1.1</td>\n",
              "      <td>0.6</td>\n",
              "      <td>2.0</td>\n",
              "      <td>2.2</td>\n",
              "      <td>12.1</td>\n",
              "      <td>537</td>\n",
              "      <td>2021</td>\n",
              "    </tr>\n",
              "    <tr>\n",
              "      <th>2725</th>\n",
              "      <td>Trae Young</td>\n",
              "      <td>PG</td>\n",
              "      <td>22</td>\n",
              "      <td>ATL</td>\n",
              "      <td>63</td>\n",
              "      <td>33.7</td>\n",
              "      <td>7.7</td>\n",
              "      <td>17.7</td>\n",
              "      <td>2.2</td>\n",
              "      <td>6.3</td>\n",
              "      <td>5.6</td>\n",
              "      <td>11.3</td>\n",
              "      <td>7.7</td>\n",
              "      <td>8.7</td>\n",
              "      <td>0.6</td>\n",
              "      <td>3.3</td>\n",
              "      <td>3.9</td>\n",
              "      <td>9.4</td>\n",
              "      <td>0.8</td>\n",
              "      <td>0.2</td>\n",
              "      <td>4.1</td>\n",
              "      <td>1.8</td>\n",
              "      <td>25.3</td>\n",
              "      <td>538</td>\n",
              "      <td>2021</td>\n",
              "    </tr>\n",
              "    <tr>\n",
              "      <th>2726</th>\n",
              "      <td>Cody Zeller</td>\n",
              "      <td>C</td>\n",
              "      <td>28</td>\n",
              "      <td>CHO</td>\n",
              "      <td>48</td>\n",
              "      <td>20.9</td>\n",
              "      <td>3.8</td>\n",
              "      <td>6.8</td>\n",
              "      <td>0.1</td>\n",
              "      <td>0.6</td>\n",
              "      <td>3.7</td>\n",
              "      <td>6.2</td>\n",
              "      <td>1.8</td>\n",
              "      <td>2.5</td>\n",
              "      <td>2.5</td>\n",
              "      <td>4.4</td>\n",
              "      <td>6.8</td>\n",
              "      <td>1.8</td>\n",
              "      <td>0.6</td>\n",
              "      <td>0.4</td>\n",
              "      <td>1.1</td>\n",
              "      <td>2.5</td>\n",
              "      <td>9.4</td>\n",
              "      <td>539</td>\n",
              "      <td>2021</td>\n",
              "    </tr>\n",
              "    <tr>\n",
              "      <th>2727</th>\n",
              "      <td>Ivica Zubac</td>\n",
              "      <td>C</td>\n",
              "      <td>23</td>\n",
              "      <td>LAC</td>\n",
              "      <td>72</td>\n",
              "      <td>22.3</td>\n",
              "      <td>3.6</td>\n",
              "      <td>5.5</td>\n",
              "      <td>0.0</td>\n",
              "      <td>0.1</td>\n",
              "      <td>3.6</td>\n",
              "      <td>5.4</td>\n",
              "      <td>1.9</td>\n",
              "      <td>2.4</td>\n",
              "      <td>2.6</td>\n",
              "      <td>4.6</td>\n",
              "      <td>7.2</td>\n",
              "      <td>1.3</td>\n",
              "      <td>0.3</td>\n",
              "      <td>0.9</td>\n",
              "      <td>1.1</td>\n",
              "      <td>2.6</td>\n",
              "      <td>9.0</td>\n",
              "      <td>540</td>\n",
              "      <td>2021</td>\n",
              "    </tr>\n",
              "  </tbody>\n",
              "</table>\n",
              "</div>\n",
              "      <button class=\"colab-df-convert\" onclick=\"convertToInteractive('df-67361fbd-8567-47be-95e0-47d0e55abea3')\"\n",
              "              title=\"Convert this dataframe to an interactive table.\"\n",
              "              style=\"display:none;\">\n",
              "        \n",
              "  <svg xmlns=\"http://www.w3.org/2000/svg\" height=\"24px\"viewBox=\"0 0 24 24\"\n",
              "       width=\"24px\">\n",
              "    <path d=\"M0 0h24v24H0V0z\" fill=\"none\"/>\n",
              "    <path d=\"M18.56 5.44l.94 2.06.94-2.06 2.06-.94-2.06-.94-.94-2.06-.94 2.06-2.06.94zm-11 1L8.5 8.5l.94-2.06 2.06-.94-2.06-.94L8.5 2.5l-.94 2.06-2.06.94zm10 10l.94 2.06.94-2.06 2.06-.94-2.06-.94-.94-2.06-.94 2.06-2.06.94z\"/><path d=\"M17.41 7.96l-1.37-1.37c-.4-.4-.92-.59-1.43-.59-.52 0-1.04.2-1.43.59L10.3 9.45l-7.72 7.72c-.78.78-.78 2.05 0 2.83L4 21.41c.39.39.9.59 1.41.59.51 0 1.02-.2 1.41-.59l7.78-7.78 2.81-2.81c.8-.78.8-2.07 0-2.86zM5.41 20L4 18.59l7.72-7.72 1.47 1.35L5.41 20z\"/>\n",
              "  </svg>\n",
              "      </button>\n",
              "      \n",
              "  <style>\n",
              "    .colab-df-container {\n",
              "      display:flex;\n",
              "      flex-wrap:wrap;\n",
              "      gap: 12px;\n",
              "    }\n",
              "\n",
              "    .colab-df-convert {\n",
              "      background-color: #E8F0FE;\n",
              "      border: none;\n",
              "      border-radius: 50%;\n",
              "      cursor: pointer;\n",
              "      display: none;\n",
              "      fill: #1967D2;\n",
              "      height: 32px;\n",
              "      padding: 0 0 0 0;\n",
              "      width: 32px;\n",
              "    }\n",
              "\n",
              "    .colab-df-convert:hover {\n",
              "      background-color: #E2EBFA;\n",
              "      box-shadow: 0px 1px 2px rgba(60, 64, 67, 0.3), 0px 1px 3px 1px rgba(60, 64, 67, 0.15);\n",
              "      fill: #174EA6;\n",
              "    }\n",
              "\n",
              "    [theme=dark] .colab-df-convert {\n",
              "      background-color: #3B4455;\n",
              "      fill: #D2E3FC;\n",
              "    }\n",
              "\n",
              "    [theme=dark] .colab-df-convert:hover {\n",
              "      background-color: #434B5C;\n",
              "      box-shadow: 0px 1px 3px 1px rgba(0, 0, 0, 0.15);\n",
              "      filter: drop-shadow(0px 1px 2px rgba(0, 0, 0, 0.3));\n",
              "      fill: #FFFFFF;\n",
              "    }\n",
              "  </style>\n",
              "\n",
              "      <script>\n",
              "        const buttonEl =\n",
              "          document.querySelector('#df-67361fbd-8567-47be-95e0-47d0e55abea3 button.colab-df-convert');\n",
              "        buttonEl.style.display =\n",
              "          google.colab.kernel.accessAllowed ? 'block' : 'none';\n",
              "\n",
              "        async function convertToInteractive(key) {\n",
              "          const element = document.querySelector('#df-67361fbd-8567-47be-95e0-47d0e55abea3');\n",
              "          const dataTable =\n",
              "            await google.colab.kernel.invokeFunction('convertToInteractive',\n",
              "                                                     [key], {});\n",
              "          if (!dataTable) return;\n",
              "\n",
              "          const docLinkHtml = 'Like what you see? Visit the ' +\n",
              "            '<a target=\"_blank\" href=https://colab.research.google.com/notebooks/data_table.ipynb>data table notebook</a>'\n",
              "            + ' to learn more about interactive tables.';\n",
              "          element.innerHTML = '';\n",
              "          dataTable['output_type'] = 'display_data';\n",
              "          await google.colab.output.renderOutput(dataTable, element);\n",
              "          const docLink = document.createElement('div');\n",
              "          docLink.innerHTML = docLinkHtml;\n",
              "          element.appendChild(docLink);\n",
              "        }\n",
              "      </script>\n",
              "    </div>\n",
              "  </div>\n",
              "  "
            ],
            "text/plain": [
              "              Player Pos  Age Team  ...  Personal Fouls  Points  Rank  Year\n",
              "2723    Delon Wright  PG   28  SAC  ...             1.1    10.0   536  2021\n",
              "2724  Thaddeus Young  PF   32  CHI  ...             2.2    12.1   537  2021\n",
              "2725      Trae Young  PG   22  ATL  ...             1.8    25.3   538  2021\n",
              "2726     Cody Zeller   C   28  CHO  ...             2.5     9.4   539  2021\n",
              "2727     Ivica Zubac   C   23  LAC  ...             2.6     9.0   540  2021\n",
              "\n",
              "[5 rows x 25 columns]"
            ]
          },
          "metadata": {},
          "execution_count": 5
        }
      ]
    },
    {
      "cell_type": "code",
      "source": [
        "data.describe()"
      ],
      "metadata": {
        "colab": {
          "base_uri": "https://localhost:8080/",
          "height": 416
        },
        "id": "wF-ndkJDjWCl",
        "outputId": "98d6e7e2-0883-41e2-fec7-5bea37c80e5a"
      },
      "execution_count": 6,
      "outputs": [
        {
          "output_type": "execute_result",
          "data": {
            "text/html": [
              "\n",
              "  <div id=\"df-f4930ae0-86af-4ac8-850a-f968fa3d7456\">\n",
              "    <div class=\"colab-df-container\">\n",
              "      <div>\n",
              "<style scoped>\n",
              "    .dataframe tbody tr th:only-of-type {\n",
              "        vertical-align: middle;\n",
              "    }\n",
              "\n",
              "    .dataframe tbody tr th {\n",
              "        vertical-align: top;\n",
              "    }\n",
              "\n",
              "    .dataframe thead th {\n",
              "        text-align: right;\n",
              "    }\n",
              "</style>\n",
              "<table border=\"1\" class=\"dataframe\">\n",
              "  <thead>\n",
              "    <tr style=\"text-align: right;\">\n",
              "      <th></th>\n",
              "      <th>Age</th>\n",
              "      <th>Games</th>\n",
              "      <th>Minutes Played</th>\n",
              "      <th>Fields Goal</th>\n",
              "      <th>Fields Goal Attempted</th>\n",
              "      <th>3-points Field Goal</th>\n",
              "      <th>3-points Field Goal Attempted</th>\n",
              "      <th>2-points Field Goal</th>\n",
              "      <th>2-points Field Goal Attempted</th>\n",
              "      <th>Free Throws</th>\n",
              "      <th>Free Throws Attempted</th>\n",
              "      <th>Offensive Rebounds</th>\n",
              "      <th>Defensive Rebounds</th>\n",
              "      <th>Total Rebounds</th>\n",
              "      <th>Assists</th>\n",
              "      <th>Steals</th>\n",
              "      <th>Blocks</th>\n",
              "      <th>Turnovers</th>\n",
              "      <th>Personal Fouls</th>\n",
              "      <th>Points</th>\n",
              "      <th>Rank</th>\n",
              "      <th>Year</th>\n",
              "    </tr>\n",
              "  </thead>\n",
              "  <tbody>\n",
              "    <tr>\n",
              "      <th>count</th>\n",
              "      <td>2728.000000</td>\n",
              "      <td>2728.000000</td>\n",
              "      <td>2728.000000</td>\n",
              "      <td>2728.000000</td>\n",
              "      <td>2728.000000</td>\n",
              "      <td>2728.000000</td>\n",
              "      <td>2728.000000</td>\n",
              "      <td>2728.000000</td>\n",
              "      <td>2728.000000</td>\n",
              "      <td>2728.000000</td>\n",
              "      <td>2728.000000</td>\n",
              "      <td>2728.000000</td>\n",
              "      <td>2728.000000</td>\n",
              "      <td>2728.000000</td>\n",
              "      <td>2728.000000</td>\n",
              "      <td>2728.000000</td>\n",
              "      <td>2728.000000</td>\n",
              "      <td>2728.000000</td>\n",
              "      <td>2728.000000</td>\n",
              "      <td>2728.000000</td>\n",
              "      <td>2728.000000</td>\n",
              "      <td>2728.000000</td>\n",
              "    </tr>\n",
              "    <tr>\n",
              "      <th>mean</th>\n",
              "      <td>25.994868</td>\n",
              "      <td>40.441349</td>\n",
              "      <td>19.135960</td>\n",
              "      <td>3.076026</td>\n",
              "      <td>6.810704</td>\n",
              "      <td>0.890836</td>\n",
              "      <td>2.548570</td>\n",
              "      <td>2.186694</td>\n",
              "      <td>4.264846</td>\n",
              "      <td>1.304509</td>\n",
              "      <td>1.707735</td>\n",
              "      <td>0.799084</td>\n",
              "      <td>2.694941</td>\n",
              "      <td>3.492045</td>\n",
              "      <td>1.840506</td>\n",
              "      <td>0.609897</td>\n",
              "      <td>0.383834</td>\n",
              "      <td>1.065029</td>\n",
              "      <td>1.667815</td>\n",
              "      <td>8.343585</td>\n",
              "      <td>267.861437</td>\n",
              "      <td>2019.512097</td>\n",
              "    </tr>\n",
              "    <tr>\n",
              "      <th>std</th>\n",
              "      <td>4.099958</td>\n",
              "      <td>24.811372</td>\n",
              "      <td>9.135915</td>\n",
              "      <td>2.180854</td>\n",
              "      <td>4.564814</td>\n",
              "      <td>0.827013</td>\n",
              "      <td>2.130376</td>\n",
              "      <td>1.761301</td>\n",
              "      <td>3.268963</td>\n",
              "      <td>1.273998</td>\n",
              "      <td>1.572987</td>\n",
              "      <td>0.734809</td>\n",
              "      <td>1.829902</td>\n",
              "      <td>2.415955</td>\n",
              "      <td>1.708985</td>\n",
              "      <td>0.415554</td>\n",
              "      <td>0.394190</td>\n",
              "      <td>0.792267</td>\n",
              "      <td>0.794244</td>\n",
              "      <td>6.030599</td>\n",
              "      <td>154.026176</td>\n",
              "      <td>1.119812</td>\n",
              "    </tr>\n",
              "    <tr>\n",
              "      <th>min</th>\n",
              "      <td>19.000000</td>\n",
              "      <td>1.000000</td>\n",
              "      <td>0.700000</td>\n",
              "      <td>0.000000</td>\n",
              "      <td>0.000000</td>\n",
              "      <td>0.000000</td>\n",
              "      <td>0.000000</td>\n",
              "      <td>0.000000</td>\n",
              "      <td>0.000000</td>\n",
              "      <td>0.000000</td>\n",
              "      <td>0.000000</td>\n",
              "      <td>0.000000</td>\n",
              "      <td>0.000000</td>\n",
              "      <td>0.000000</td>\n",
              "      <td>0.000000</td>\n",
              "      <td>0.000000</td>\n",
              "      <td>0.000000</td>\n",
              "      <td>0.000000</td>\n",
              "      <td>0.000000</td>\n",
              "      <td>0.000000</td>\n",
              "      <td>1.000000</td>\n",
              "      <td>2018.000000</td>\n",
              "    </tr>\n",
              "    <tr>\n",
              "      <th>25%</th>\n",
              "      <td>23.000000</td>\n",
              "      <td>18.000000</td>\n",
              "      <td>12.000000</td>\n",
              "      <td>1.400000</td>\n",
              "      <td>3.400000</td>\n",
              "      <td>0.200000</td>\n",
              "      <td>0.800000</td>\n",
              "      <td>0.900000</td>\n",
              "      <td>1.800000</td>\n",
              "      <td>0.500000</td>\n",
              "      <td>0.700000</td>\n",
              "      <td>0.300000</td>\n",
              "      <td>1.400000</td>\n",
              "      <td>1.800000</td>\n",
              "      <td>0.700000</td>\n",
              "      <td>0.300000</td>\n",
              "      <td>0.100000</td>\n",
              "      <td>0.500000</td>\n",
              "      <td>1.100000</td>\n",
              "      <td>3.900000</td>\n",
              "      <td>133.000000</td>\n",
              "      <td>2019.000000</td>\n",
              "    </tr>\n",
              "    <tr>\n",
              "      <th>50%</th>\n",
              "      <td>25.000000</td>\n",
              "      <td>42.000000</td>\n",
              "      <td>18.900000</td>\n",
              "      <td>2.600000</td>\n",
              "      <td>5.800000</td>\n",
              "      <td>0.700000</td>\n",
              "      <td>2.100000</td>\n",
              "      <td>1.700000</td>\n",
              "      <td>3.400000</td>\n",
              "      <td>0.900000</td>\n",
              "      <td>1.300000</td>\n",
              "      <td>0.600000</td>\n",
              "      <td>2.300000</td>\n",
              "      <td>3.000000</td>\n",
              "      <td>1.300000</td>\n",
              "      <td>0.500000</td>\n",
              "      <td>0.300000</td>\n",
              "      <td>0.900000</td>\n",
              "      <td>1.700000</td>\n",
              "      <td>6.900000</td>\n",
              "      <td>265.500000</td>\n",
              "      <td>2019.000000</td>\n",
              "    </tr>\n",
              "    <tr>\n",
              "      <th>75%</th>\n",
              "      <td>29.000000</td>\n",
              "      <td>63.000000</td>\n",
              "      <td>26.700000</td>\n",
              "      <td>4.300000</td>\n",
              "      <td>9.400000</td>\n",
              "      <td>1.400000</td>\n",
              "      <td>3.800000</td>\n",
              "      <td>3.000000</td>\n",
              "      <td>5.800000</td>\n",
              "      <td>1.700000</td>\n",
              "      <td>2.300000</td>\n",
              "      <td>1.000000</td>\n",
              "      <td>3.600000</td>\n",
              "      <td>4.600000</td>\n",
              "      <td>2.400000</td>\n",
              "      <td>0.800000</td>\n",
              "      <td>0.500000</td>\n",
              "      <td>1.400000</td>\n",
              "      <td>2.200000</td>\n",
              "      <td>11.500000</td>\n",
              "      <td>401.000000</td>\n",
              "      <td>2021.000000</td>\n",
              "    </tr>\n",
              "    <tr>\n",
              "      <th>max</th>\n",
              "      <td>43.000000</td>\n",
              "      <td>82.000000</td>\n",
              "      <td>37.600000</td>\n",
              "      <td>11.200000</td>\n",
              "      <td>24.500000</td>\n",
              "      <td>5.300000</td>\n",
              "      <td>13.200000</td>\n",
              "      <td>10.200000</td>\n",
              "      <td>18.700000</td>\n",
              "      <td>10.200000</td>\n",
              "      <td>11.800000</td>\n",
              "      <td>5.400000</td>\n",
              "      <td>11.400000</td>\n",
              "      <td>16.000000</td>\n",
              "      <td>11.700000</td>\n",
              "      <td>2.400000</td>\n",
              "      <td>3.400000</td>\n",
              "      <td>5.000000</td>\n",
              "      <td>5.000000</td>\n",
              "      <td>36.100000</td>\n",
              "      <td>540.000000</td>\n",
              "      <td>2021.000000</td>\n",
              "    </tr>\n",
              "  </tbody>\n",
              "</table>\n",
              "</div>\n",
              "      <button class=\"colab-df-convert\" onclick=\"convertToInteractive('df-f4930ae0-86af-4ac8-850a-f968fa3d7456')\"\n",
              "              title=\"Convert this dataframe to an interactive table.\"\n",
              "              style=\"display:none;\">\n",
              "        \n",
              "  <svg xmlns=\"http://www.w3.org/2000/svg\" height=\"24px\"viewBox=\"0 0 24 24\"\n",
              "       width=\"24px\">\n",
              "    <path d=\"M0 0h24v24H0V0z\" fill=\"none\"/>\n",
              "    <path d=\"M18.56 5.44l.94 2.06.94-2.06 2.06-.94-2.06-.94-.94-2.06-.94 2.06-2.06.94zm-11 1L8.5 8.5l.94-2.06 2.06-.94-2.06-.94L8.5 2.5l-.94 2.06-2.06.94zm10 10l.94 2.06.94-2.06 2.06-.94-2.06-.94-.94-2.06-.94 2.06-2.06.94z\"/><path d=\"M17.41 7.96l-1.37-1.37c-.4-.4-.92-.59-1.43-.59-.52 0-1.04.2-1.43.59L10.3 9.45l-7.72 7.72c-.78.78-.78 2.05 0 2.83L4 21.41c.39.39.9.59 1.41.59.51 0 1.02-.2 1.41-.59l7.78-7.78 2.81-2.81c.8-.78.8-2.07 0-2.86zM5.41 20L4 18.59l7.72-7.72 1.47 1.35L5.41 20z\"/>\n",
              "  </svg>\n",
              "      </button>\n",
              "      \n",
              "  <style>\n",
              "    .colab-df-container {\n",
              "      display:flex;\n",
              "      flex-wrap:wrap;\n",
              "      gap: 12px;\n",
              "    }\n",
              "\n",
              "    .colab-df-convert {\n",
              "      background-color: #E8F0FE;\n",
              "      border: none;\n",
              "      border-radius: 50%;\n",
              "      cursor: pointer;\n",
              "      display: none;\n",
              "      fill: #1967D2;\n",
              "      height: 32px;\n",
              "      padding: 0 0 0 0;\n",
              "      width: 32px;\n",
              "    }\n",
              "\n",
              "    .colab-df-convert:hover {\n",
              "      background-color: #E2EBFA;\n",
              "      box-shadow: 0px 1px 2px rgba(60, 64, 67, 0.3), 0px 1px 3px 1px rgba(60, 64, 67, 0.15);\n",
              "      fill: #174EA6;\n",
              "    }\n",
              "\n",
              "    [theme=dark] .colab-df-convert {\n",
              "      background-color: #3B4455;\n",
              "      fill: #D2E3FC;\n",
              "    }\n",
              "\n",
              "    [theme=dark] .colab-df-convert:hover {\n",
              "      background-color: #434B5C;\n",
              "      box-shadow: 0px 1px 3px 1px rgba(0, 0, 0, 0.15);\n",
              "      filter: drop-shadow(0px 1px 2px rgba(0, 0, 0, 0.3));\n",
              "      fill: #FFFFFF;\n",
              "    }\n",
              "  </style>\n",
              "\n",
              "      <script>\n",
              "        const buttonEl =\n",
              "          document.querySelector('#df-f4930ae0-86af-4ac8-850a-f968fa3d7456 button.colab-df-convert');\n",
              "        buttonEl.style.display =\n",
              "          google.colab.kernel.accessAllowed ? 'block' : 'none';\n",
              "\n",
              "        async function convertToInteractive(key) {\n",
              "          const element = document.querySelector('#df-f4930ae0-86af-4ac8-850a-f968fa3d7456');\n",
              "          const dataTable =\n",
              "            await google.colab.kernel.invokeFunction('convertToInteractive',\n",
              "                                                     [key], {});\n",
              "          if (!dataTable) return;\n",
              "\n",
              "          const docLinkHtml = 'Like what you see? Visit the ' +\n",
              "            '<a target=\"_blank\" href=https://colab.research.google.com/notebooks/data_table.ipynb>data table notebook</a>'\n",
              "            + ' to learn more about interactive tables.';\n",
              "          element.innerHTML = '';\n",
              "          dataTable['output_type'] = 'display_data';\n",
              "          await google.colab.output.renderOutput(dataTable, element);\n",
              "          const docLink = document.createElement('div');\n",
              "          docLink.innerHTML = docLinkHtml;\n",
              "          element.appendChild(docLink);\n",
              "        }\n",
              "      </script>\n",
              "    </div>\n",
              "  </div>\n",
              "  "
            ],
            "text/plain": [
              "               Age        Games  ...         Rank         Year\n",
              "count  2728.000000  2728.000000  ...  2728.000000  2728.000000\n",
              "mean     25.994868    40.441349  ...   267.861437  2019.512097\n",
              "std       4.099958    24.811372  ...   154.026176     1.119812\n",
              "min      19.000000     1.000000  ...     1.000000  2018.000000\n",
              "25%      23.000000    18.000000  ...   133.000000  2019.000000\n",
              "50%      25.000000    42.000000  ...   265.500000  2019.000000\n",
              "75%      29.000000    63.000000  ...   401.000000  2021.000000\n",
              "max      43.000000    82.000000  ...   540.000000  2021.000000\n",
              "\n",
              "[8 rows x 22 columns]"
            ]
          },
          "metadata": {},
          "execution_count": 6
        }
      ]
    },
    {
      "cell_type": "code",
      "source": [
        "data.nunique()"
      ],
      "metadata": {
        "colab": {
          "base_uri": "https://localhost:8080/"
        },
        "id": "jmEk1IiKjcvk",
        "outputId": "711855fe-93c3-40dc-b9b2-908465afd2cd"
      },
      "execution_count": 7,
      "outputs": [
        {
          "output_type": "execute_result",
          "data": {
            "text/plain": [
              "Player                           875\n",
              "Pos                               15\n",
              "Age                               25\n",
              "Team                              31\n",
              "Games                             82\n",
              "Minutes Played                   352\n",
              "Fields Goal                      109\n",
              "Fields Goal Attempted            211\n",
              "3-points Field Goal               46\n",
              "3-points Field Goal Attempted    104\n",
              "2-points Field Goal               93\n",
              "2-points Field Goal Attempted    158\n",
              "Free Throws                       79\n",
              "Free Throws Attempted             91\n",
              "Offensive Rebounds                48\n",
              "Defensive Rebounds               107\n",
              "Total Rebounds                   134\n",
              "Assists                           99\n",
              "Steals                            25\n",
              "Blocks                            29\n",
              "Turnovers                         48\n",
              "Personal Fouls                    43\n",
              "Points                           277\n",
              "Rank                             540\n",
              "Year                               4\n",
              "dtype: int64"
            ]
          },
          "metadata": {},
          "execution_count": 7
        }
      ]
    },
    {
      "cell_type": "code",
      "source": [
        "print(\"This dataset have {} null values.\".format(data.isnull().sum().sum()))"
      ],
      "metadata": {
        "colab": {
          "base_uri": "https://localhost:8080/"
        },
        "id": "AKRklgpkjinD",
        "outputId": "9f5bff22-0144-406d-b320-6a8f5265dd1e"
      },
      "execution_count": 9,
      "outputs": [
        {
          "output_type": "stream",
          "name": "stdout",
          "text": [
            "This dataset have 0 null values.\n"
          ]
        }
      ]
    },
    {
      "cell_type": "code",
      "source": [
        "data.sample(1)"
      ],
      "metadata": {
        "colab": {
          "base_uri": "https://localhost:8080/",
          "height": 214
        },
        "id": "HOhSuP7wjo7X",
        "outputId": "2d1c4069-d8af-49cc-efcf-f1625a9b787e"
      },
      "execution_count": 10,
      "outputs": [
        {
          "output_type": "execute_result",
          "data": {
            "text/html": [
              "\n",
              "  <div id=\"df-17ef5b4a-a8f4-4ddd-8880-f458089e0cd0\">\n",
              "    <div class=\"colab-df-container\">\n",
              "      <div>\n",
              "<style scoped>\n",
              "    .dataframe tbody tr th:only-of-type {\n",
              "        vertical-align: middle;\n",
              "    }\n",
              "\n",
              "    .dataframe tbody tr th {\n",
              "        vertical-align: top;\n",
              "    }\n",
              "\n",
              "    .dataframe thead th {\n",
              "        text-align: right;\n",
              "    }\n",
              "</style>\n",
              "<table border=\"1\" class=\"dataframe\">\n",
              "  <thead>\n",
              "    <tr style=\"text-align: right;\">\n",
              "      <th></th>\n",
              "      <th>Player</th>\n",
              "      <th>Pos</th>\n",
              "      <th>Age</th>\n",
              "      <th>Team</th>\n",
              "      <th>Games</th>\n",
              "      <th>Minutes Played</th>\n",
              "      <th>Fields Goal</th>\n",
              "      <th>Fields Goal Attempted</th>\n",
              "      <th>3-points Field Goal</th>\n",
              "      <th>3-points Field Goal Attempted</th>\n",
              "      <th>2-points Field Goal</th>\n",
              "      <th>2-points Field Goal Attempted</th>\n",
              "      <th>Free Throws</th>\n",
              "      <th>Free Throws Attempted</th>\n",
              "      <th>Offensive Rebounds</th>\n",
              "      <th>Defensive Rebounds</th>\n",
              "      <th>Total Rebounds</th>\n",
              "      <th>Assists</th>\n",
              "      <th>Steals</th>\n",
              "      <th>Blocks</th>\n",
              "      <th>Turnovers</th>\n",
              "      <th>Personal Fouls</th>\n",
              "      <th>Points</th>\n",
              "      <th>Rank</th>\n",
              "      <th>Year</th>\n",
              "    </tr>\n",
              "  </thead>\n",
              "  <tbody>\n",
              "    <tr>\n",
              "      <th>836</th>\n",
              "      <td>Matthew Dellavedova</td>\n",
              "      <td>PG</td>\n",
              "      <td>28</td>\n",
              "      <td>CLE</td>\n",
              "      <td>36</td>\n",
              "      <td>19.9</td>\n",
              "      <td>2.6</td>\n",
              "      <td>6.2</td>\n",
              "      <td>1.1</td>\n",
              "      <td>3.3</td>\n",
              "      <td>1.4</td>\n",
              "      <td>2.9</td>\n",
              "      <td>1.1</td>\n",
              "      <td>1.3</td>\n",
              "      <td>0.2</td>\n",
              "      <td>1.7</td>\n",
              "      <td>1.9</td>\n",
              "      <td>4.2</td>\n",
              "      <td>0.3</td>\n",
              "      <td>0.1</td>\n",
              "      <td>1.6</td>\n",
              "      <td>1.8</td>\n",
              "      <td>7.3</td>\n",
              "      <td>133</td>\n",
              "      <td>2019</td>\n",
              "    </tr>\n",
              "  </tbody>\n",
              "</table>\n",
              "</div>\n",
              "      <button class=\"colab-df-convert\" onclick=\"convertToInteractive('df-17ef5b4a-a8f4-4ddd-8880-f458089e0cd0')\"\n",
              "              title=\"Convert this dataframe to an interactive table.\"\n",
              "              style=\"display:none;\">\n",
              "        \n",
              "  <svg xmlns=\"http://www.w3.org/2000/svg\" height=\"24px\"viewBox=\"0 0 24 24\"\n",
              "       width=\"24px\">\n",
              "    <path d=\"M0 0h24v24H0V0z\" fill=\"none\"/>\n",
              "    <path d=\"M18.56 5.44l.94 2.06.94-2.06 2.06-.94-2.06-.94-.94-2.06-.94 2.06-2.06.94zm-11 1L8.5 8.5l.94-2.06 2.06-.94-2.06-.94L8.5 2.5l-.94 2.06-2.06.94zm10 10l.94 2.06.94-2.06 2.06-.94-2.06-.94-.94-2.06-.94 2.06-2.06.94z\"/><path d=\"M17.41 7.96l-1.37-1.37c-.4-.4-.92-.59-1.43-.59-.52 0-1.04.2-1.43.59L10.3 9.45l-7.72 7.72c-.78.78-.78 2.05 0 2.83L4 21.41c.39.39.9.59 1.41.59.51 0 1.02-.2 1.41-.59l7.78-7.78 2.81-2.81c.8-.78.8-2.07 0-2.86zM5.41 20L4 18.59l7.72-7.72 1.47 1.35L5.41 20z\"/>\n",
              "  </svg>\n",
              "      </button>\n",
              "      \n",
              "  <style>\n",
              "    .colab-df-container {\n",
              "      display:flex;\n",
              "      flex-wrap:wrap;\n",
              "      gap: 12px;\n",
              "    }\n",
              "\n",
              "    .colab-df-convert {\n",
              "      background-color: #E8F0FE;\n",
              "      border: none;\n",
              "      border-radius: 50%;\n",
              "      cursor: pointer;\n",
              "      display: none;\n",
              "      fill: #1967D2;\n",
              "      height: 32px;\n",
              "      padding: 0 0 0 0;\n",
              "      width: 32px;\n",
              "    }\n",
              "\n",
              "    .colab-df-convert:hover {\n",
              "      background-color: #E2EBFA;\n",
              "      box-shadow: 0px 1px 2px rgba(60, 64, 67, 0.3), 0px 1px 3px 1px rgba(60, 64, 67, 0.15);\n",
              "      fill: #174EA6;\n",
              "    }\n",
              "\n",
              "    [theme=dark] .colab-df-convert {\n",
              "      background-color: #3B4455;\n",
              "      fill: #D2E3FC;\n",
              "    }\n",
              "\n",
              "    [theme=dark] .colab-df-convert:hover {\n",
              "      background-color: #434B5C;\n",
              "      box-shadow: 0px 1px 3px 1px rgba(0, 0, 0, 0.15);\n",
              "      filter: drop-shadow(0px 1px 2px rgba(0, 0, 0, 0.3));\n",
              "      fill: #FFFFFF;\n",
              "    }\n",
              "  </style>\n",
              "\n",
              "      <script>\n",
              "        const buttonEl =\n",
              "          document.querySelector('#df-17ef5b4a-a8f4-4ddd-8880-f458089e0cd0 button.colab-df-convert');\n",
              "        buttonEl.style.display =\n",
              "          google.colab.kernel.accessAllowed ? 'block' : 'none';\n",
              "\n",
              "        async function convertToInteractive(key) {\n",
              "          const element = document.querySelector('#df-17ef5b4a-a8f4-4ddd-8880-f458089e0cd0');\n",
              "          const dataTable =\n",
              "            await google.colab.kernel.invokeFunction('convertToInteractive',\n",
              "                                                     [key], {});\n",
              "          if (!dataTable) return;\n",
              "\n",
              "          const docLinkHtml = 'Like what you see? Visit the ' +\n",
              "            '<a target=\"_blank\" href=https://colab.research.google.com/notebooks/data_table.ipynb>data table notebook</a>'\n",
              "            + ' to learn more about interactive tables.';\n",
              "          element.innerHTML = '';\n",
              "          dataTable['output_type'] = 'display_data';\n",
              "          await google.colab.output.renderOutput(dataTable, element);\n",
              "          const docLink = document.createElement('div');\n",
              "          docLink.innerHTML = docLinkHtml;\n",
              "          element.appendChild(docLink);\n",
              "        }\n",
              "      </script>\n",
              "    </div>\n",
              "  </div>\n",
              "  "
            ],
            "text/plain": [
              "                  Player Pos  Age Team  ...  Personal Fouls  Points  Rank  Year\n",
              "836  Matthew Dellavedova  PG   28  CLE  ...             1.8     7.3   133  2019\n",
              "\n",
              "[1 rows x 25 columns]"
            ]
          },
          "metadata": {},
          "execution_count": 10
        }
      ]
    },
    {
      "cell_type": "code",
      "source": [
        "u_teams = len(list(data['Team'].unique()))\n",
        "print(\"-----------------------------------\")\n",
        "print(f\"There are total {u_teams} different teams.\")"
      ],
      "metadata": {
        "colab": {
          "base_uri": "https://localhost:8080/"
        },
        "id": "R_IyeBRVj0PR",
        "outputId": "cc3486b7-ea84-41e4-8c72-b2474adea5c4"
      },
      "execution_count": 14,
      "outputs": [
        {
          "output_type": "stream",
          "name": "stdout",
          "text": [
            "-----------------------------------\n",
            "There are total 31 different teams.\n"
          ]
        }
      ]
    },
    {
      "cell_type": "markdown",
      "source": [
        "Which Team Played Most Games"
      ],
      "metadata": {
        "id": "m95mjHFmn6CE"
      }
    },
    {
      "cell_type": "code",
      "source": [
        "total_games_played_by_teams = data.groupby('Team')['Games'].sum().reset_index()"
      ],
      "metadata": {
        "id": "GapQVg4uj9zC"
      },
      "execution_count": 23,
      "outputs": []
    },
    {
      "cell_type": "code",
      "source": [
        "total_games_played_by_teams.plot(kind=\"bar\")"
      ],
      "metadata": {
        "colab": {
          "base_uri": "https://localhost:8080/",
          "height": 282
        },
        "id": "oTlKlcQ4k2vh",
        "outputId": "0cf382fa-5a57-4d40-ad23-e69f6cfcff2f"
      },
      "execution_count": 28,
      "outputs": [
        {
          "output_type": "execute_result",
          "data": {
            "text/plain": [
              "<matplotlib.axes._subplots.AxesSubplot at 0x7f9488a802d0>"
            ]
          },
          "metadata": {},
          "execution_count": 28
        },
        {
          "output_type": "display_data",
          "data": {
            "image/png": "[encoded data removed]",
            "text/plain": [
              "<Figure size 432x288 with 1 Axes>"
            ]
          },
          "metadata": {
            "needs_background": "light"
          }
        }
      ]
    },
    {
      "cell_type": "code",
      "source": [
        "gms = total_games_played_by_teams.loc[28]['Games']\n",
        "tms = total_games_played_by_teams.loc[28]['Team']\n",
        "\n",
        "print(\"----------------------------------------\")\n",
        "print(\"Most games {} played by {} Team.\".format(gms, tms))"
      ],
      "metadata": {
        "colab": {
          "base_uri": "https://localhost:8080/"
        },
        "id": "7IAMlV00lKzQ",
        "outputId": "7f74b96c-cadf-4b2f-ef62-b638aae1fc90"
      },
      "execution_count": 31,
      "outputs": [
        {
          "output_type": "stream",
          "name": "stdout",
          "text": [
            "----------------------------------------\n",
            "Most games 12670 played by TOT Team.\n"
          ]
        }
      ]
    },
    {
      "cell_type": "markdown",
      "source": [
        "In Which Year Most Games Played"
      ],
      "metadata": {
        "id": "v-qDwapspeMy"
      }
    },
    {
      "cell_type": "code",
      "source": [
        "most_games_played_in_year = data.groupby('Year')['Games'].sum().reset_index()\n",
        "most_games_played_in_year['Games'].plot(kind=\"bar\")"
      ],
      "metadata": {
        "colab": {
          "base_uri": "https://localhost:8080/",
          "height": 275
        },
        "id": "IuC9_uMLotSU",
        "outputId": "4884ac56-7fdb-4e24-f0b1-2db798c93538"
      },
      "execution_count": 37,
      "outputs": [
        {
          "output_type": "execute_result",
          "data": {
            "text/plain": [
              "<matplotlib.axes._subplots.AxesSubplot at 0x7f94887eff90>"
            ]
          },
          "metadata": {},
          "execution_count": 37
        },
        {
          "output_type": "display_data",
          "data": {
            "image/png": "[encoded data removed]",
            "text/plain": [
              "<Figure size 432x288 with 1 Axes>"
            ]
          },
          "metadata": {
            "needs_background": "light"
          }
        }
      ]
    },
    {
      "cell_type": "code",
      "source": [
        "yr = most_games_played_in_year.loc[3]['Year']\n",
        "yr_gms = most_games_played_in_year.loc[3]['Games']\n",
        "print(\"-------------------------------------\")\n",
        "print(f\"Most games {yr_gms} played in the year {yr}.\")"
      ],
      "metadata": {
        "colab": {
          "base_uri": "https://localhost:8080/"
        },
        "id": "nDLoaRrvo5M8",
        "outputId": "e1b91a99-1506-48a5-f8c4-011f9e3a54a9"
      },
      "execution_count": 39,
      "outputs": [
        {
          "output_type": "stream",
          "name": "stdout",
          "text": [
            "-------------------------------------\n",
            "Most games 26345 played in the year 2021.\n"
          ]
        }
      ]
    },
    {
      "cell_type": "markdown",
      "source": [
        "Which Team Played More Minutes"
      ],
      "metadata": {
        "id": "GN4pRYEkqMEE"
      }
    },
    {
      "cell_type": "code",
      "source": [
        "total_minutes_played_by = data.groupby('Team')['Minutes Played'].sum().reset_index()\n",
        "total_minutes_played_by.plot(kind=\"bar\")"
      ],
      "metadata": {
        "colab": {
          "base_uri": "https://localhost:8080/",
          "height": 282
        },
        "id": "C4spMYTrpyOR",
        "outputId": "af46461b-1563-49a8-ee99-f6946d43cc68"
      },
      "execution_count": 42,
      "outputs": [
        {
          "output_type": "execute_result",
          "data": {
            "text/plain": [
              "<matplotlib.axes._subplots.AxesSubplot at 0x7f94887ca750>"
            ]
          },
          "metadata": {},
          "execution_count": 42
        },
        {
          "output_type": "display_data",
          "data": {
            "image/png": "[encoded data removed]",
            "text/plain": [
              "<Figure size 432x288 with 1 Axes>"
            ]
          },
          "metadata": {
            "needs_background": "light"
          }
        }
      ]
    },
    {
      "cell_type": "code",
      "source": [
        "tm = total_minutes_played_by.loc[28]['Team']\n",
        "mins = total_minutes_played_by.loc[28]['Minutes Played']\n",
        "\n",
        "print(\"----------------------------------------\")\n",
        "print(\"Team {} played most of {} Minutes.\".format(tm, mins))"
      ],
      "metadata": {
        "colab": {
          "base_uri": "https://localhost:8080/"
        },
        "id": "MA6S7By0qAl3",
        "outputId": "4deed63d-1b4a-47e1-e161-c5a44519e4d6"
      },
      "execution_count": 45,
      "outputs": [
        {
          "output_type": "stream",
          "name": "stdout",
          "text": [
            "----------------------------------------\n",
            "Team TOT played most of 5246.3 Minutes.\n"
          ]
        }
      ]
    },
    {
      "cell_type": "markdown",
      "source": [
        "Which Team Have Maximum Points"
      ],
      "metadata": {
        "id": "mm-T87vbrAzW"
      }
    },
    {
      "cell_type": "code",
      "source": [
        "wthmp = data.groupby('Team')['Points'].sum().reset_index()\n",
        "wthmp.plot(kind=\"bar\")"
      ],
      "metadata": {
        "colab": {
          "base_uri": "https://localhost:8080/",
          "height": 282
        },
        "id": "FIGNlaOTqayv",
        "outputId": "0729ef94-2d29-48ee-c5ec-97f539806b7b"
      },
      "execution_count": 48,
      "outputs": [
        {
          "output_type": "execute_result",
          "data": {
            "text/plain": [
              "<matplotlib.axes._subplots.AxesSubplot at 0x7f9488642f10>"
            ]
          },
          "metadata": {},
          "execution_count": 48
        },
        {
          "output_type": "display_data",
          "data": {
            "image/png": "[encoded data removed]",
            "text/plain": [
              "<Figure size 432x288 with 1 Axes>"
            ]
          },
          "metadata": {
            "needs_background": "light"
          }
        }
      ]
    },
    {
      "cell_type": "code",
      "source": [
        "tm = wthmp.loc[28]['Team']\n",
        "pts = wthmp.loc[28]['Points']\n",
        "\n",
        "print(\"----------------------------------------\")\n",
        "print(\"Team {} has earned most {} points.\".format(tm, pts))"
      ],
      "metadata": {
        "colab": {
          "base_uri": "https://localhost:8080/"
        },
        "id": "8UxDGbxjq6X6",
        "outputId": "5b8a78ab-4e2e-4816-900e-a9679bada0d7"
      },
      "execution_count": 50,
      "outputs": [
        {
          "output_type": "stream",
          "name": "stdout",
          "text": [
            "----------------------------------------\n",
            "Team TOT has earned most 2168.3 points.\n"
          ]
        }
      ]
    },
    {
      "cell_type": "markdown",
      "source": [
        "Which player has the most field goals in the year 2020?"
      ],
      "metadata": {
        "id": "tJjKOIx6r-Rv"
      }
    },
    {
      "cell_type": "code",
      "source": [
        "wpmfy = data.groupby(['Player', 'Year'])['Fields Goal Attempted'].sum().reset_index()"
      ],
      "metadata": {
        "id": "1yCAX6gDrdCL"
      },
      "execution_count": 57,
      "outputs": []
    },
    {
      "cell_type": "code",
      "source": [
        "pl_fg = wpmfy[wpmfy['Fields Goal Attempted'] == wpmfy['Fields Goal Attempted'].max()]"
      ],
      "metadata": {
        "id": "XAAUZ8BDr5d9"
      },
      "execution_count": 61,
      "outputs": []
    },
    {
      "cell_type": "code",
      "source": [
        "print(\"Player {} has attempted most field goals of {} in {}.\".format(pl_fg['Player'].values[0], pl_fg['Fields Goal Attempted'].values[0], pl_fg['Year'].values[0]))"
      ],
      "metadata": {
        "colab": {
          "base_uri": "https://localhost:8080/"
        },
        "id": "M2_6nx_2s45l",
        "outputId": "7b889cf6-0c5c-44ec-db37-ce3a78575749"
      },
      "execution_count": 66,
      "outputs": [
        {
          "output_type": "stream",
          "name": "stdout",
          "text": [
            "Player Victor Oladipo has attempted most field goals of 64.3 in 2021.\n"
          ]
        }
      ]
    },
    {
      "cell_type": "markdown",
      "source": [
        "Which player has played most matches?"
      ],
      "metadata": {
        "id": "Ej59P1isuIUa"
      }
    },
    {
      "cell_type": "code",
      "source": [
        "wppmm = data.groupby('Player')['Games'].sum().reset_index()"
      ],
      "metadata": {
        "id": "rukklGOStsES"
      },
      "execution_count": 70,
      "outputs": []
    },
    {
      "cell_type": "code",
      "source": [
        "print(\"---------------------------------------\")\n",
        "print(\"Player {} have played most games of {}.\".format(wppmm.max()['Player'], wppmm.max()['Games']))"
      ],
      "metadata": {
        "colab": {
          "base_uri": "https://localhost:8080/"
        },
        "id": "VND2dXcQuN3c",
        "outputId": "b19bb5f9-5ea7-4dc4-b3d0-30171a63cd9e"
      },
      "execution_count": 73,
      "outputs": [
        {
          "output_type": "stream",
          "name": "stdout",
          "text": [
            "---------------------------------------\n",
            "Player Ömer Aşık have played most games of 458.\n"
          ]
        }
      ]
    },
    {
      "cell_type": "markdown",
      "source": [
        "Player with the most rebounds and assists?"
      ],
      "metadata": {
        "id": "SVOt-sjkvAMR"
      }
    },
    {
      "cell_type": "code",
      "source": [
        "pmr = data.groupby('Player')['Total Rebounds'].sum().reset_index()\n",
        "pma = data.groupby('Player')['Assists'].sum().reset_index()"
      ],
      "metadata": {
        "id": "-H35ka0Yuwss"
      },
      "execution_count": 76,
      "outputs": []
    },
    {
      "cell_type": "code",
      "source": [
        "print(\"---------------------------------------\")\n",
        "print(\"Player {} most rebounds of {}.\".format(pmr.max()['Player'], pmr.max()['Total Rebounds']))"
      ],
      "metadata": {
        "colab": {
          "base_uri": "https://localhost:8080/"
        },
        "id": "lwAFGgfIvCmm",
        "outputId": "1e23a54c-4e07-44cd-a320-d363645bdac8"
      },
      "execution_count": 80,
      "outputs": [
        {
          "output_type": "stream",
          "name": "stdout",
          "text": [
            "---------------------------------------\n",
            "Player Ömer Aşık most rebounds of 109.4.\n"
          ]
        }
      ]
    },
    {
      "cell_type": "code",
      "source": [
        "print(\"---------------------------------------\")\n",
        "print(\"Player {} most assists of {}.\".format(pma.max()['Player'], pma.max()['Assists']))"
      ],
      "metadata": {
        "colab": {
          "base_uri": "https://localhost:8080/"
        },
        "id": "K1IcBSSLvb7i",
        "outputId": "5905e1f8-3f80-4db0-f2ca-12291cd913ea"
      },
      "execution_count": 82,
      "outputs": [
        {
          "output_type": "stream",
          "name": "stdout",
          "text": [
            "---------------------------------------\n",
            "Player Ömer Aşık most assists of 55.900000000000006.\n"
          ]
        }
      ]
    },
    {
      "cell_type": "code",
      "source": [
        "corr = data.corr()"
      ],
      "metadata": {
        "id": "IQQiRQqyvcxx"
      },
      "execution_count": 83,
      "outputs": []
    },
    {
      "cell_type": "code",
      "source": [
        "plt.figure(figsize=(18, 18))\n",
        "sns.heatmap(corr, xticklabels=corr.columns, yticklabels=corr.columns)"
      ],
      "metadata": {
        "colab": {
          "base_uri": "https://localhost:8080/",
          "height": 1000
        },
        "id": "w0pWuOn-v8eT",
        "outputId": "2c1b37bd-f680-4ebd-a48d-793532a2eee7"
      },
      "execution_count": 84,
      "outputs": [
        {
          "output_type": "execute_result",
          "data": {
            "text/plain": [
              "<matplotlib.axes._subplots.AxesSubplot at 0x7f948b9fa150>"
            ]
          },
          "metadata": {},
          "execution_count": 84
        },
        {
          "output_type": "display_data",
          "data": {
            "image/png": "[encoded data removed]",
            "text/plain": [
              "<Figure size 1296x1296 with 2 Axes>"
            ]
          },
          "metadata": {
            "needs_background": "light"
          }
        }
      ]
    },
    {
      "cell_type": "code",
      "source": [
        "sns.distplot(x=data[\"Age\"])\n",
        "plt.title(\"Age Distribution of Players\")\n",
        "plt.xlabel(\"Age\")"
      ],
      "metadata": {
        "colab": {
          "base_uri": "https://localhost:8080/",
          "height": 313
        },
        "id": "Pycvpx7gwOs1",
        "outputId": "0746d9e8-02d2-4eb9-9368-11774fa3db72"
      },
      "execution_count": 89,
      "outputs": [
        {
          "output_type": "execute_result",
          "data": {
            "text/plain": [
              "Text(0.5, 0, 'Age')"
            ]
          },
          "metadata": {},
          "execution_count": 89
        },
        {
          "output_type": "display_data",
          "data": {
            "image/png": "[encoded data removed]",
            "text/plain": [
              "<Figure size 432x288 with 1 Axes>"
            ]
          },
          "metadata": {
            "needs_background": "light"
          }
        }
      ]
    },
    {
      "cell_type": "markdown",
      "source": [
        "EDA By Muhammad Hanan Asghar"
      ],
      "metadata": {
        "id": "B0RECFRRzS2R"
      }
    }
  ]
}